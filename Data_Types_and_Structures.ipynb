{
  "nbformat": 4,
  "nbformat_minor": 0,
  "metadata": {
    "colab": {
      "provenance": []
    },
    "kernelspec": {
      "name": "python3",
      "display_name": "Python 3"
    },
    "language_info": {
      "name": "python"
    }
  },
  "cells": [
    {
      "cell_type": "code",
      "execution_count": null,
      "metadata": {
        "id": "mlkxLHrMcJ08"
      },
      "outputs": [],
      "source": []
    },
    {
      "cell_type": "markdown",
      "source": [
        "# Data Types and Structures\n",
        "\n",
        "Q1. What are data structures, and why are they important ?\n",
        "- Data structures are ways of organizing and storing data in a computer so it can be accessed and modified efficiently. They are important because they provide a means to manage large amounts of data and are essential for designing efficient algorithms.\n",
        "\n",
        "Q2. Explain the difference between mutable and immutable data types with examples ?\n",
        "- Mutable data types can be changed after creation (e.g., lists, dictionaries), whereas immutable data types cannot be changed (e.g., strings, tuples).\n",
        "\n",
        "Q3. What are the main differences between lists and tuples in Python?\n",
        "- Lists are mutable, can be modified, and typically consume more memory. Tuples are immutable and generally faster and more memory efficient.\n",
        "\n",
        "Q4. Describe how dictionaries store data?\n",
        "- Dictionaries store data in key-value pairs using a hash table, allowing fast access to values via their keys.\n",
        "\n",
        "Q5. Why might you use a set instead of a list in Python?\n",
        "- Sets are used when you want to store unique elements and perform operations like union, intersection, and difference efficiently.\n",
        "\n",
        "Q6. What is a string in Python, and how is it different from a list?\n",
        "\n",
        "- A string is an immutable sequence of characters, while a list is a mutable sequence that can hold different data types.\n",
        "\n",
        "Q7. How do tuples ensure data integrity in Python?\n",
        "\n",
        "- Since tuples are immutable, their contents cannot be changed, ensuring that the data remains constant and unaltered.\n",
        "\n",
        "Q8. What is a hash table, and how does it relate to dictionaries in Python?\n",
        "- A hash table is a data structure that maps keys to values using a hash function. Python dictionaries use hash tables internally for efficient key-value storage.\n",
        "\n",
        "Q9. Can lists contain different data types in Python?\n",
        "- Yes, lists can contain elements of different data types, such as integers, strings, and even other lists.\n",
        "\n",
        "Q10. Explain why strings are immutable in Python?\n",
        "\n",
        "- Strings are immutable to ensure security, consistency, and performance benefits like caching and optimization.\n",
        "\n",
        "Q11. What advantages do dictionaries offer over lists for certain tasks?\n",
        "\n",
        "- Dictionaries offer faster lookups for key-based access and are better suited for associative data mapping.\n",
        "\n",
        "Q12. Describe a scenario where using a tuple would be preferable over a list?\n",
        "\n",
        "- When you want to ensure data remains constant and unchangeable, like geographic coordinates (latitude, longitude).\n",
        "\n",
        "\n",
        "Q13. How do sets handle duplicate values in Python?\n",
        "- Sets automatically remove duplicates; each element in a set is unique.\n",
        "\n",
        "\n",
        "Q14. How does the “in” keyword work differently for lists and dictionaries?\n",
        "- In lists, in checks for the presence of a value; in dictionaries, it checks for the presence of a key.\n",
        "\n",
        "\n",
        "Q15. Can you modify the elements of a tuple? Explain why or why not.\n",
        "- No, tuples are immutable, so their elements cannot be changed once created.\n",
        "\n",
        "\n",
        "Q16. What is a nested dictionary, and give an example of its use case?\n",
        "- A nested dictionary is a dictionary within another dictionary. Example use case: storing student records with nested fields like grades.\n",
        "\n",
        "\n",
        "Q17. Describe the time complexity of accessing elements in a dictionary?\n",
        "- On average, accessing an element in a dictionary is O(1) due to hash table implementation.\n",
        "\n",
        "\n",
        "Q18. In what situations are lists preferred over dictionaries?\n",
        "- When order matters or when you need to access elements by position rather than a key.\n",
        "\n",
        "\n",
        "Q19. Why are dictionaries considered unordered, and how does that affect data retrieval?\n",
        "- Before Python 3.7, dictionaries didn’t preserve insertion order. While now ordered, conceptually they are for key-based access, not positional.\n",
        "\n",
        "\n",
        "Q20. Explain the difference between a list and a dictionary in terms of data retrieval.\n",
        "- Lists retrieve data by index (position), whereas dictionaries retrieve data by keys."
      ],
      "metadata": {
        "id": "hGrVVGl0ciqW"
      }
    },
    {
      "cell_type": "code",
      "source": [
        "name = \"Muzzafar Ahmad\";\n",
        "print(name)"
      ],
      "metadata": {
        "colab": {
          "base_uri": "https://localhost:8080/"
        },
        "id": "uuZc_V87nAWA",
        "outputId": "369eaac4-0900-474d-c3b9-5697863c3751"
      },
      "execution_count": null,
      "outputs": [
        {
          "output_type": "stream",
          "name": "stdout",
          "text": [
            "Muzzafar Ahmad\n"
          ]
        }
      ]
    },
    {
      "cell_type": "code",
      "source": [
        "print(len(\"Hello World\"))"
      ],
      "metadata": {
        "colab": {
          "base_uri": "https://localhost:8080/"
        },
        "id": "kEsMTc8knnAG",
        "outputId": "c23d2fde-107e-4f07-989b-eabe6dd193af"
      },
      "execution_count": null,
      "outputs": [
        {
          "output_type": "stream",
          "name": "stdout",
          "text": [
            "11\n"
          ]
        }
      ]
    },
    {
      "cell_type": "code",
      "source": [
        "print(\"Python Programming\"[:3])\n"
      ],
      "metadata": {
        "id": "hS1gF22LnnkB",
        "colab": {
          "base_uri": "https://localhost:8080/"
        },
        "outputId": "f0c8c9ec-51ce-4556-8934-856b19074772"
      },
      "execution_count": 3,
      "outputs": [
        {
          "output_type": "stream",
          "name": "stdout",
          "text": [
            "Pyt\n"
          ]
        }
      ]
    },
    {
      "cell_type": "code",
      "source": [
        "print(\"hello\".upper())"
      ],
      "metadata": {
        "id": "G7HzwT_Enns_",
        "colab": {
          "base_uri": "https://localhost:8080/"
        },
        "outputId": "550c0dae-0cf8-4ed7-f523-e7f2dd51f354"
      },
      "execution_count": 4,
      "outputs": [
        {
          "output_type": "stream",
          "name": "stdout",
          "text": [
            "HELLO\n"
          ]
        }
      ]
    },
    {
      "cell_type": "code",
      "source": [
        "print([1, 2, 3, 4, 5])"
      ],
      "metadata": {
        "id": "jm7eLGumnnwk",
        "colab": {
          "base_uri": "https://localhost:8080/"
        },
        "outputId": "c8d8bf4d-9f27-4d14-c7b0-f51712b26d0f"
      },
      "execution_count": 5,
      "outputs": [
        {
          "output_type": "stream",
          "name": "stdout",
          "text": [
            "[1, 2, 3, 4, 5]\n"
          ]
        }
      ]
    },
    {
      "cell_type": "code",
      "source": [
        "list = [1, 2, 3, 4]; list.append(10); print(list)\n"
      ],
      "metadata": {
        "id": "wGCAON3annzz",
        "colab": {
          "base_uri": "https://localhost:8080/"
        },
        "outputId": "9a1c8f13-9b48-44df-a6a8-ebd946db4a03"
      },
      "execution_count": 7,
      "outputs": [
        {
          "output_type": "stream",
          "name": "stdout",
          "text": [
            "[1, 2, 3, 4, 10]\n"
          ]
        }
      ]
    },
    {
      "cell_type": "code",
      "source": [
        "list = [1, 2, 3, 4, 5]; list.remove(3); print(list)"
      ],
      "metadata": {
        "id": "anxWNgz7nn29",
        "colab": {
          "base_uri": "https://localhost:8080/"
        },
        "outputId": "74a756f3-dea7-44bd-91db-b184f25f9e78"
      },
      "execution_count": 8,
      "outputs": [
        {
          "output_type": "stream",
          "name": "stdout",
          "text": [
            "[1, 2, 4, 5]\n"
          ]
        }
      ]
    },
    {
      "cell_type": "code",
      "source": [
        "list = ['a', 'b', 'c', 'd']; print(list[1])"
      ],
      "metadata": {
        "id": "LaXJePGhnn6h",
        "colab": {
          "base_uri": "https://localhost:8080/"
        },
        "outputId": "39a82127-6b47-4bee-e13a-6e9637db84b3"
      },
      "execution_count": 9,
      "outputs": [
        {
          "output_type": "stream",
          "name": "stdout",
          "text": [
            "b\n"
          ]
        }
      ]
    },
    {
      "cell_type": "code",
      "source": [
        "list = [10, 20, 30, 40, 50]; print(list[::-1])"
      ],
      "metadata": {
        "id": "SX0Fy2AxnoAm",
        "colab": {
          "base_uri": "https://localhost:8080/"
        },
        "outputId": "05105110-2d05-48da-8c45-1040785df804"
      },
      "execution_count": 10,
      "outputs": [
        {
          "output_type": "stream",
          "name": "stdout",
          "text": [
            "[50, 40, 30, 20, 10]\n"
          ]
        }
      ]
    },
    {
      "cell_type": "code",
      "source": [
        "tup = (100, 200, 300); print(tup)"
      ],
      "metadata": {
        "id": "R_3kDnsAnoD-",
        "colab": {
          "base_uri": "https://localhost:8080/"
        },
        "outputId": "f3f940b3-5bfa-4f72-9afc-8e8785867106"
      },
      "execution_count": 11,
      "outputs": [
        {
          "output_type": "stream",
          "name": "stdout",
          "text": [
            "(100, 200, 300)\n"
          ]
        }
      ]
    },
    {
      "cell_type": "code",
      "source": [
        "tup = ('red', 'green', 'blue', 'yellow'); print(tup[-2])"
      ],
      "metadata": {
        "id": "LfHtLT21noG6",
        "colab": {
          "base_uri": "https://localhost:8080/"
        },
        "outputId": "9a94c473-4085-41e1-8ffb-045c09c04be2"
      },
      "execution_count": 12,
      "outputs": [
        {
          "output_type": "stream",
          "name": "stdout",
          "text": [
            "blue\n"
          ]
        }
      ]
    },
    {
      "cell_type": "code",
      "source": [
        "tup = (10, 20, 5, 15); print(min(tup))"
      ],
      "metadata": {
        "id": "LK23m51GnoJ2",
        "colab": {
          "base_uri": "https://localhost:8080/"
        },
        "outputId": "0b0f964c-601a-4ebf-85c0-94175b936193"
      },
      "execution_count": 13,
      "outputs": [
        {
          "output_type": "stream",
          "name": "stdout",
          "text": [
            "5\n"
          ]
        }
      ]
    },
    {
      "cell_type": "code",
      "source": [
        "tup = ('dog', 'cat', 'rabbit'); print(tup.index('cat'))"
      ],
      "metadata": {
        "colab": {
          "base_uri": "https://localhost:8080/"
        },
        "id": "-KoaqZInDqoV",
        "outputId": "119719fe-e23c-4d9e-ccda-faf31464f514"
      },
      "execution_count": 15,
      "outputs": [
        {
          "output_type": "stream",
          "name": "stdout",
          "text": [
            "1\n"
          ]
        }
      ]
    },
    {
      "cell_type": "code",
      "source": [
        "fruits = ('apple', 'banana', 'kiwi');print(\"kiwi\" in fruits)"
      ],
      "metadata": {
        "colab": {
          "base_uri": "https://localhost:8080/"
        },
        "id": "C3SxA-_NDqxY",
        "outputId": "107e0c25-0253-4c78-ce51-257f2a79d8dc"
      },
      "execution_count": 16,
      "outputs": [
        {
          "output_type": "stream",
          "name": "stdout",
          "text": [
            "True\n"
          ]
        }
      ]
    },
    {
      "cell_type": "code",
      "source": [
        "s = {'a', 'b', 'c'};print(s)"
      ],
      "metadata": {
        "colab": {
          "base_uri": "https://localhost:8080/"
        },
        "id": "6OYtFN7MDq1i",
        "outputId": "25f40103-2e7f-4438-b0d0-a0e1ad5f7293"
      },
      "execution_count": 17,
      "outputs": [
        {
          "output_type": "stream",
          "name": "stdout",
          "text": [
            "{'b', 'c', 'a'}\n"
          ]
        }
      ]
    },
    {
      "cell_type": "code",
      "source": [
        "s = {1, 2, 3, 4, 5};s.clear();print(s)"
      ],
      "metadata": {
        "id": "rhGGWDBinoNR",
        "colab": {
          "base_uri": "https://localhost:8080/"
        },
        "outputId": "5f238cf3-de26-48ff-b00b-7bcafa25de75"
      },
      "execution_count": 18,
      "outputs": [
        {
          "output_type": "stream",
          "name": "stdout",
          "text": [
            "set()\n"
          ]
        }
      ]
    },
    {
      "cell_type": "code",
      "source": [
        "s = {1, 2, 3, 4};s.remove(4);print(s)"
      ],
      "metadata": {
        "colab": {
          "base_uri": "https://localhost:8080/"
        },
        "id": "wt80_GP5FLNx",
        "outputId": "0846c654-38cb-49a4-c3d0-a93b537157e9"
      },
      "execution_count": 19,
      "outputs": [
        {
          "output_type": "stream",
          "name": "stdout",
          "text": [
            "{1, 2, 3}\n"
          ]
        }
      ]
    },
    {
      "cell_type": "code",
      "source": [
        "a = {1, 2, 3};b = {3, 4, 5};print(a.union(b))"
      ],
      "metadata": {
        "colab": {
          "base_uri": "https://localhost:8080/"
        },
        "id": "OERkSqBKFLT4",
        "outputId": "b9d8bf4b-1170-4f1b-a76d-6144ec8e43a1"
      },
      "execution_count": 20,
      "outputs": [
        {
          "output_type": "stream",
          "name": "stdout",
          "text": [
            "{1, 2, 3, 4, 5}\n"
          ]
        }
      ]
    },
    {
      "cell_type": "code",
      "source": [
        "a = {1, 2, 3};b = {2, 3, 4};print(a.intersection(b))"
      ],
      "metadata": {
        "colab": {
          "base_uri": "https://localhost:8080/"
        },
        "id": "pt9e-nK2F0hT",
        "outputId": "3bebab87-f8b8-48b4-bce9-d2007aed21e2"
      },
      "execution_count": 21,
      "outputs": [
        {
          "output_type": "stream",
          "name": "stdout",
          "text": [
            "{2, 3}\n"
          ]
        }
      ]
    },
    {
      "cell_type": "code",
      "source": [
        "dict = {\"name\": \"Muzzafar\", \"age\": 34, \"city\": \"New Delhi\"};print(dict)"
      ],
      "metadata": {
        "colab": {
          "base_uri": "https://localhost:8080/"
        },
        "id": "C6RdT5HBF0pH",
        "outputId": "2184bc5b-7448-4b92-c9cf-374f56b71c58"
      },
      "execution_count": 22,
      "outputs": [
        {
          "output_type": "stream",
          "name": "stdout",
          "text": [
            "{'name': 'Muzzafar', 'age': 34, 'city': 'New Delhi'}\n"
          ]
        }
      ]
    },
    {
      "cell_type": "code",
      "source": [
        "dict = {'name': 'John', 'age': 25};dict ['country'] = 'USA';print(dict)"
      ],
      "metadata": {
        "colab": {
          "base_uri": "https://localhost:8080/"
        },
        "id": "1ijcgvXOF0v8",
        "outputId": "bb2423f6-a052-4db2-ec29-54acd5e282f9"
      },
      "execution_count": 23,
      "outputs": [
        {
          "output_type": "stream",
          "name": "stdout",
          "text": [
            "{'name': 'John', 'age': 25, 'country': 'USA'}\n"
          ]
        }
      ]
    },
    {
      "cell_type": "code",
      "source": [
        "dict = {'name': 'Alice', 'age': 30};print(dict['name'])\n"
      ],
      "metadata": {
        "colab": {
          "base_uri": "https://localhost:8080/"
        },
        "id": "6lFwDMu0FLdb",
        "outputId": "61424e70-fb1d-459d-83d9-0b979ed0dce0"
      },
      "execution_count": 24,
      "outputs": [
        {
          "output_type": "stream",
          "name": "stdout",
          "text": [
            "Alice\n"
          ]
        }
      ]
    },
    {
      "cell_type": "markdown",
      "source": [],
      "metadata": {
        "id": "IIOrVvhXnC-c"
      }
    },
    {
      "cell_type": "code",
      "source": [
        "dict = {'name': 'Bob', 'age': 22,'city': 'New York'};del dict['age'];print(dict)"
      ],
      "metadata": {
        "colab": {
          "base_uri": "https://localhost:8080/"
        },
        "id": "9vDbE0MbIlMz",
        "outputId": "aa46c16a-ba15-4475-ec31-7403e74700b0"
      },
      "execution_count": 25,
      "outputs": [
        {
          "output_type": "stream",
          "name": "stdout",
          "text": [
            "{'name': 'Bob', 'city': 'New York'}\n"
          ]
        }
      ]
    },
    {
      "cell_type": "code",
      "source": [
        "dict = {'name': 'Alice', 'city': 'Paris'};print('city' in dict)"
      ],
      "metadata": {
        "colab": {
          "base_uri": "https://localhost:8080/"
        },
        "id": "HgB9a-UAIlVr",
        "outputId": "68c9e08d-a36c-4b99-b570-a4edd748c0d4"
      },
      "execution_count": 26,
      "outputs": [
        {
          "output_type": "stream",
          "name": "stdout",
          "text": [
            "True\n"
          ]
        }
      ]
    },
    {
      "cell_type": "code",
      "source": [
        "list = [1, 2, 3];tup = (4, 5, 6);dict = {'a': 1, 'b': 2};print(list, tup, dict)"
      ],
      "metadata": {
        "colab": {
          "base_uri": "https://localhost:8080/"
        },
        "id": "nqI2dzxlIlaf",
        "outputId": "eff18095-3ac1-4316-eff3-64503f648135"
      },
      "execution_count": 28,
      "outputs": [
        {
          "output_type": "stream",
          "name": "stdout",
          "text": [
            "[1, 2, 3] (4, 5, 6) {'a': 1, 'b': 2}\n"
          ]
        }
      ]
    },
    {
      "cell_type": "code",
      "source": [
        "import random;list = random.sample(range(1, 101), 5);list.sort();print(list)"
      ],
      "metadata": {
        "colab": {
          "base_uri": "https://localhost:8080/"
        },
        "id": "h5TniVSVIljg",
        "outputId": "9b74ab45-156f-4518-8cbd-63e19acbc08b"
      },
      "execution_count": 30,
      "outputs": [
        {
          "output_type": "stream",
          "name": "stdout",
          "text": [
            "[7, 19, 39, 43, 76]\n"
          ]
        }
      ]
    },
    {
      "cell_type": "code",
      "source": [
        "list = [\"apple\", \"banana\", \"cherry\", \"Orange\"];print(list[3])"
      ],
      "metadata": {
        "id": "SBAX5V9inGGC",
        "colab": {
          "base_uri": "https://localhost:8080/"
        },
        "outputId": "cfd7d489-c292-4c7a-acf1-fb98eda4be6d"
      },
      "execution_count": 31,
      "outputs": [
        {
          "output_type": "stream",
          "name": "stdout",
          "text": [
            "Orange\n"
          ]
        }
      ]
    },
    {
      "cell_type": "code",
      "source": [
        "dict1 = {'a': 1, 'b': 2};dict2 = {'c': 3, 'd': 4};dict1.update(dict2);print(dict1)"
      ],
      "metadata": {
        "colab": {
          "base_uri": "https://localhost:8080/"
        },
        "id": "_fa6j9WUNh3d",
        "outputId": "96debb26-5785-4f3f-aec7-1d957a047b12"
      },
      "execution_count": 32,
      "outputs": [
        {
          "output_type": "stream",
          "name": "stdout",
          "text": [
            "{'a': 1, 'b': 2, 'c': 3, 'd': 4}\n"
          ]
        }
      ]
    },
    {
      "cell_type": "code",
      "source": [
        "list = [\"apple\", \"banana\", \"cherry\"];print(set(list))"
      ],
      "metadata": {
        "colab": {
          "base_uri": "https://localhost:8080/"
        },
        "id": "TTiVEMkSN1tz",
        "outputId": "35275fcf-0d13-4d13-f96f-ed71db3efb06"
      },
      "execution_count": 33,
      "outputs": [
        {
          "output_type": "stream",
          "name": "stdout",
          "text": [
            "{'cherry', 'apple', 'banana'}\n"
          ]
        }
      ]
    }
  ]
}