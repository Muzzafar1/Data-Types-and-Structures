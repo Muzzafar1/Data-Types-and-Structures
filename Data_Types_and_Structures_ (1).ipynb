{
  "nbformat": 4,
  "nbformat_minor": 0,
  "metadata": {
    "colab": {
      "provenance": []
    },
    "kernelspec": {
      "name": "python3",
      "display_name": "Python 3"
    },
    "language_info": {
      "name": "python"
    }
  },
  "cells": [
    {
      "cell_type": "code",
      "execution_count": null,
      "metadata": {
        "id": "mlkxLHrMcJ08"
      },
      "outputs": [],
      "source": []
    },
    {
      "cell_type": "markdown",
      "source": [
        "# Data Types and Structures\n",
        "\n",
        "Q1. What are data structures, and why are they important ?\n",
        "- Data structures are ways of organizing and storing data in a computer so it can be accessed and modified efficiently. They are important because they provide a means to manage large amounts of data and are essential for designing efficient algorithms.\n",
        "\n",
        "Q2. Explain the difference between mutable and immutable data types with examples ?\n",
        "- Mutable data types can be changed after creation (e.g., lists, dictionaries), whereas immutable data types cannot be changed (e.g., strings, tuples).\n",
        "\n",
        "Q3. What are the main differences between lists and tuples in Python?\n",
        "- Lists are mutable, can be modified, and typically consume more memory. Tuples are immutable and generally faster and more memory efficient.\n",
        "\n",
        "Q4. Describe how dictionaries store data?\n",
        "- Dictionaries store data in key-value pairs using a hash table, allowing fast access to values via their keys.\n",
        "\n",
        "Q5. Why might you use a set instead of a list in Python?\n",
        "- Sets are used when you want to store unique elements and perform operations like union, intersection, and difference efficiently.\n",
        "\n",
        "Q6. What is a string in Python, and how is it different from a list?\n",
        "\n",
        "- A string is an immutable sequence of characters, while a list is a mutable sequence that can hold different data types.\n",
        "\n",
        "Q7. How do tuples ensure data integrity in Python?\n",
        "\n",
        "- Since tuples are immutable, their contents cannot be changed, ensuring that the data remains constant and unaltered.\n",
        "\n",
        "Q8. What is a hash table, and how does it relate to dictionaries in Python?\n",
        "- A hash table is a data structure that maps keys to values using a hash function. Python dictionaries use hash tables internally for efficient key-value storage.\n",
        "\n",
        "Q9. Can lists contain different data types in Python?\n",
        "- Yes, lists can contain elements of different data types, such as integers, strings, and even other lists.\n",
        "\n",
        "Q10. Explain why strings are immutable in Python?\n",
        "\n",
        "- Strings are immutable to ensure security, consistency, and performance benefits like caching and optimization.\n",
        "\n",
        "Q11. What advantages do dictionaries offer over lists for certain tasks?\n",
        "\n",
        "- Dictionaries offer faster lookups for key-based access and are better suited for associative data mapping.\n",
        "\n",
        "Q12. Describe a scenario where using a tuple would be preferable over a list?\n",
        "\n",
        "- When you want to ensure data remains constant and unchangeable, like geographic coordinates (latitude, longitude).\n",
        "\n",
        "\n",
        "Q13. How do sets handle duplicate values in Python?\n",
        "- Sets automatically remove duplicates; each element in a set is unique.\n",
        "\n",
        "\n",
        "Q14. How does the “in” keyword work differently for lists and dictionaries?\n",
        "- In lists, in checks for the presence of a value; in dictionaries, it checks for the presence of a key.\n",
        "\n",
        "\n",
        "Q15. Can you modify the elements of a tuple? Explain why or why not.\n",
        "- No, tuples are immutable, so their elements cannot be changed once created.\n",
        "\n",
        "\n",
        "Q16. What is a nested dictionary, and give an example of its use case?\n",
        "- A nested dictionary is a dictionary within another dictionary. Example use case: storing student records with nested fields like grades.\n",
        "\n",
        "\n",
        "Q17. Describe the time complexity of accessing elements in a dictionary?\n",
        "- On average, accessing an element in a dictionary is O(1) due to hash table implementation.\n",
        "\n",
        "\n",
        "Q18. In what situations are lists preferred over dictionaries?\n",
        "- When order matters or when you need to access elements by position rather than a key.\n",
        "\n",
        "\n",
        "Q19. Why are dictionaries considered unordered, and how does that affect data retrieval?\n",
        "- Before Python 3.7, dictionaries didn’t preserve insertion order. While now ordered, conceptually they are for key-based access, not positional.\n",
        "\n",
        "\n",
        "Q20. Explain the difference between a list and a dictionary in terms of data retrieval.\n",
        "- Lists retrieve data by index (position), whereas dictionaries retrieve data by keys."
      ],
      "metadata": {
        "id": "hGrVVGl0ciqW"
      }
    },
    {
      "cell_type": "code",
      "source": [
        "# Write a code to create a string with your name and print it\n",
        "name = \"Muzzafar Ahmad\";\n",
        "print(name)"
      ],
      "metadata": {
        "colab": {
          "base_uri": "https://localhost:8080/"
        },
        "id": "uuZc_V87nAWA",
        "outputId": "b88396a5-2976-459b-cbd9-40a5b83d15c3"
      },
      "execution_count": 35,
      "outputs": [
        {
          "output_type": "stream",
          "name": "stdout",
          "text": [
            "Muzzafar Ahmad\n"
          ]
        }
      ]
    },
    {
      "cell_type": "code",
      "source": [
        "# Write a code to find the length of the string \"Hello World\"\n",
        "print(len(\"Hello World\"))"
      ],
      "metadata": {
        "colab": {
          "base_uri": "https://localhost:8080/"
        },
        "id": "kEsMTc8knnAG",
        "outputId": "bc79dac6-78be-40f9-b7c3-6aa06a2fee81"
      },
      "execution_count": 36,
      "outputs": [
        {
          "output_type": "stream",
          "name": "stdout",
          "text": [
            "11\n"
          ]
        }
      ]
    },
    {
      "cell_type": "code",
      "source": [
        "#Write a code to slice the first 3 characters from the string \"Python Programming\"\n",
        "print(\"Python Programming\"[:3])\n"
      ],
      "metadata": {
        "id": "hS1gF22LnnkB",
        "colab": {
          "base_uri": "https://localhost:8080/"
        },
        "outputId": "f0c8c9ec-51ce-4556-8934-856b19074772"
      },
      "execution_count": 3,
      "outputs": [
        {
          "output_type": "stream",
          "name": "stdout",
          "text": [
            "Pyt\n"
          ]
        }
      ]
    },
    {
      "cell_type": "code",
      "source": [
        "# Write a code to convert the string \"hello\" to uppercase\n",
        "print(\"hello\".upper())"
      ],
      "metadata": {
        "id": "G7HzwT_Enns_",
        "colab": {
          "base_uri": "https://localhost:8080/"
        },
        "outputId": "612f1730-91b2-4931-a290-d1107250f6f4"
      },
      "execution_count": 37,
      "outputs": [
        {
          "output_type": "stream",
          "name": "stdout",
          "text": [
            "HELLO\n"
          ]
        }
      ]
    },
    {
      "cell_type": "code",
      "source": [
        "# Write a code to replace the word \"apple\" with \"orange\" in the string \"I like apple\"\n",
        "print(\"I like apple\".replace(\"apple\", \"orange\"))"
      ],
      "metadata": {
        "colab": {
          "base_uri": "https://localhost:8080/"
        },
        "id": "lgwv1ekebayH",
        "outputId": "3fb68d33-ce88-4936-cc0c-50e5716adc66"
      },
      "execution_count": 38,
      "outputs": [
        {
          "output_type": "stream",
          "name": "stdout",
          "text": [
            "I like orange\n"
          ]
        }
      ]
    },
    {
      "cell_type": "code",
      "source": [
        "# Write a code to create a list with numbers 1 to 5 and print it\n",
        "print([1, 2, 3, 4, 5])"
      ],
      "metadata": {
        "id": "jm7eLGumnnwk",
        "colab": {
          "base_uri": "https://localhost:8080/"
        },
        "outputId": "dc41e704-d0ae-40fe-b2d5-8d583da9eeb4"
      },
      "execution_count": 39,
      "outputs": [
        {
          "output_type": "stream",
          "name": "stdout",
          "text": [
            "[1, 2, 3, 4, 5]\n"
          ]
        }
      ]
    },
    {
      "cell_type": "code",
      "source": [
        "# Write a code to append the number 10 to the list [1, 2, 3, 4]\n",
        "list = [1, 2, 3, 4]; list.append(10); print(list)\n"
      ],
      "metadata": {
        "id": "wGCAON3annzz",
        "colab": {
          "base_uri": "https://localhost:8080/"
        },
        "outputId": "e851ef34-934f-4c46-906d-69886a379317"
      },
      "execution_count": 40,
      "outputs": [
        {
          "output_type": "stream",
          "name": "stdout",
          "text": [
            "[1, 2, 3, 4, 10]\n"
          ]
        }
      ]
    },
    {
      "cell_type": "code",
      "source": [
        "# Write a code to remove the number 3 from the list [1, 2, 3, 4, 5]\n",
        "list = [1, 2, 3, 4, 5]; list.remove(3); print(list)"
      ],
      "metadata": {
        "id": "anxWNgz7nn29",
        "colab": {
          "base_uri": "https://localhost:8080/"
        },
        "outputId": "983c6308-e7ce-423b-bdf1-777760dc75cb"
      },
      "execution_count": 41,
      "outputs": [
        {
          "output_type": "stream",
          "name": "stdout",
          "text": [
            "[1, 2, 4, 5]\n"
          ]
        }
      ]
    },
    {
      "cell_type": "code",
      "source": [
        "# Write a code to access the second element in the list ['a', 'b', 'c', 'd']\n",
        "list = ['a', 'b', 'c', 'd']; print(list[1])"
      ],
      "metadata": {
        "id": "LaXJePGhnn6h",
        "colab": {
          "base_uri": "https://localhost:8080/"
        },
        "outputId": "0d9535ce-cb4d-4a01-e3d8-380295c2d6d0"
      },
      "execution_count": 42,
      "outputs": [
        {
          "output_type": "stream",
          "name": "stdout",
          "text": [
            "b\n"
          ]
        }
      ]
    },
    {
      "cell_type": "code",
      "source": [
        "# Write a code to reverse the list [10, 20, 30, 40, 50]\n",
        "list = [10, 20, 30, 40, 50]; print(list[::-1])"
      ],
      "metadata": {
        "id": "SX0Fy2AxnoAm",
        "colab": {
          "base_uri": "https://localhost:8080/"
        },
        "outputId": "05105110-2d05-48da-8c45-1040785df804"
      },
      "execution_count": 10,
      "outputs": [
        {
          "output_type": "stream",
          "name": "stdout",
          "text": [
            "[50, 40, 30, 20, 10]\n"
          ]
        }
      ]
    },
    {
      "cell_type": "code",
      "source": [
        "# Write a code to create a tuple with the elements 100, 200, 300 and print it\n",
        "tup = (100, 200, 300); print(tup)"
      ],
      "metadata": {
        "id": "R_3kDnsAnoD-",
        "colab": {
          "base_uri": "https://localhost:8080/"
        },
        "outputId": "f3f940b3-5bfa-4f72-9afc-8e8785867106"
      },
      "execution_count": 11,
      "outputs": [
        {
          "output_type": "stream",
          "name": "stdout",
          "text": [
            "(100, 200, 300)\n"
          ]
        }
      ]
    },
    {
      "cell_type": "code",
      "source": [
        "#  Write a code to access the second-to-last element of the tuple ('red', 'green', 'blue', 'yellow').\n",
        "tup = ('red', 'green', 'blue', 'yellow'); print(tup[-2])"
      ],
      "metadata": {
        "id": "LfHtLT21noG6",
        "colab": {
          "base_uri": "https://localhost:8080/"
        },
        "outputId": "3ac1f90c-2db5-4387-bf99-d8451316cb7a"
      },
      "execution_count": 43,
      "outputs": [
        {
          "output_type": "stream",
          "name": "stdout",
          "text": [
            "blue\n"
          ]
        }
      ]
    },
    {
      "cell_type": "code",
      "source": [
        "# Write a code to find the minimum number in the tuple (10, 20, 5, 15).\n",
        "tup = (10, 20, 5, 15); print(min(tup))"
      ],
      "metadata": {
        "id": "LK23m51GnoJ2",
        "colab": {
          "base_uri": "https://localhost:8080/"
        },
        "outputId": "2600ed4d-714f-4f2f-f55b-3ae822bb99f4"
      },
      "execution_count": 44,
      "outputs": [
        {
          "output_type": "stream",
          "name": "stdout",
          "text": [
            "5\n"
          ]
        }
      ]
    },
    {
      "cell_type": "code",
      "source": [
        "#  Write a code to find the index of the element \"cat\" in the tuple ('dog', 'cat', 'rabbit')\n",
        "tup = ('dog', 'cat', 'rabbit'); print(tup.index('cat'))"
      ],
      "metadata": {
        "colab": {
          "base_uri": "https://localhost:8080/"
        },
        "id": "-KoaqZInDqoV",
        "outputId": "8d4bf471-dbf9-4fc8-ba64-8dc0b44444f7"
      },
      "execution_count": 46,
      "outputs": [
        {
          "output_type": "stream",
          "name": "stdout",
          "text": [
            "1\n"
          ]
        }
      ]
    },
    {
      "cell_type": "code",
      "source": [
        "# Write a code to create a tuple containing three different fruits and check if \"kiwi\" is in it.\n",
        "fruits = ('apple', 'banana', 'kiwi');print(\"kiwi\" in fruits)"
      ],
      "metadata": {
        "colab": {
          "base_uri": "https://localhost:8080/"
        },
        "id": "C3SxA-_NDqxY",
        "outputId": "12a322a0-183c-4967-a716-e69121168a90"
      },
      "execution_count": 47,
      "outputs": [
        {
          "output_type": "stream",
          "name": "stdout",
          "text": [
            "True\n"
          ]
        }
      ]
    },
    {
      "cell_type": "code",
      "source": [
        "# Write a code to create a set with the elements 'a', 'b', 'c' and print it\n",
        "s = {'a', 'b', 'c'};print(s)"
      ],
      "metadata": {
        "colab": {
          "base_uri": "https://localhost:8080/"
        },
        "id": "6OYtFN7MDq1i",
        "outputId": "e17dcf8c-4c29-45df-8a28-18fba1aa9f92"
      },
      "execution_count": 48,
      "outputs": [
        {
          "output_type": "stream",
          "name": "stdout",
          "text": [
            "{'b', 'c', 'a'}\n"
          ]
        }
      ]
    },
    {
      "cell_type": "code",
      "source": [
        "# Write a code to clear all elements from the set {1, 2, 3, 4, 5}\n",
        "s = {1, 2, 3, 4, 5};s.clear();print(s)"
      ],
      "metadata": {
        "id": "rhGGWDBinoNR",
        "colab": {
          "base_uri": "https://localhost:8080/"
        },
        "outputId": "3b1b2c3d-305e-447e-d3c4-80ca65e02d10"
      },
      "execution_count": 49,
      "outputs": [
        {
          "output_type": "stream",
          "name": "stdout",
          "text": [
            "set()\n"
          ]
        }
      ]
    },
    {
      "cell_type": "code",
      "source": [
        "# Write a code to remove the element 4 from the set {1, 2, 3, 4}\n",
        "s = {1, 2, 3, 4};s.remove(4);print(s)"
      ],
      "metadata": {
        "colab": {
          "base_uri": "https://localhost:8080/"
        },
        "id": "wt80_GP5FLNx",
        "outputId": "9b876280-5e76-48ba-ff6e-3de586721761"
      },
      "execution_count": 50,
      "outputs": [
        {
          "output_type": "stream",
          "name": "stdout",
          "text": [
            "{1, 2, 3}\n"
          ]
        }
      ]
    },
    {
      "cell_type": "code",
      "source": [
        "# Write a code to find the union of two sets {1, 2, 3} and {3, 4, 5}\n",
        "a = {1, 2, 3};b = {3, 4, 5};print(a.union(b))"
      ],
      "metadata": {
        "colab": {
          "base_uri": "https://localhost:8080/"
        },
        "id": "OERkSqBKFLT4",
        "outputId": "ecc48f3a-6103-4f0c-a8fa-4e38af5115f1"
      },
      "execution_count": 51,
      "outputs": [
        {
          "output_type": "stream",
          "name": "stdout",
          "text": [
            "{1, 2, 3, 4, 5}\n"
          ]
        }
      ]
    },
    {
      "cell_type": "code",
      "source": [
        "# Write a code to find the intersection of two sets {1, 2, 3} and {2, 3, 4}\n",
        "a = {1, 2, 3};b = {2, 3, 4};print(a.intersection(b))"
      ],
      "metadata": {
        "colab": {
          "base_uri": "https://localhost:8080/"
        },
        "id": "pt9e-nK2F0hT",
        "outputId": "03d86e90-1da4-469a-8c80-a25e677fd2d1"
      },
      "execution_count": 52,
      "outputs": [
        {
          "output_type": "stream",
          "name": "stdout",
          "text": [
            "{2, 3}\n"
          ]
        }
      ]
    },
    {
      "cell_type": "code",
      "source": [
        "# Write a code to create a dictionary with the keys \"name\", \"age\", and \"city\", and print it\n",
        "dict = {\"name\": \"Muzzafar\", \"age\": 34, \"city\": \"New Delhi\"};print(dict)"
      ],
      "metadata": {
        "colab": {
          "base_uri": "https://localhost:8080/"
        },
        "id": "C6RdT5HBF0pH",
        "outputId": "957e1e46-8aeb-4872-be64-0ad0eaaf77d0"
      },
      "execution_count": 53,
      "outputs": [
        {
          "output_type": "stream",
          "name": "stdout",
          "text": [
            "{'name': 'Muzzafar', 'age': 34, 'city': 'New Delhi'}\n"
          ]
        }
      ]
    },
    {
      "cell_type": "code",
      "source": [
        "# Write a code to add a new key-value pair \"country\": \"USA\" to the dictionary {'name': 'John', 'age': 25}.\n",
        "dict = {'name': 'John', 'age': 25};dict ['country'] = 'USA';print(dict)"
      ],
      "metadata": {
        "colab": {
          "base_uri": "https://localhost:8080/"
        },
        "id": "1ijcgvXOF0v8",
        "outputId": "8136456c-79c4-4bf1-db62-9b99a7eb4a96"
      },
      "execution_count": 54,
      "outputs": [
        {
          "output_type": "stream",
          "name": "stdout",
          "text": [
            "{'name': 'John', 'age': 25, 'country': 'USA'}\n"
          ]
        }
      ]
    },
    {
      "cell_type": "code",
      "source": [
        "# Write a code to access the value associated with the key \"name\" in the dictionary {'name': 'Alice', 'age': 30}\n",
        "dict = {'name': 'Alice', 'age': 30};print(dict['name'])\n"
      ],
      "metadata": {
        "colab": {
          "base_uri": "https://localhost:8080/"
        },
        "id": "6lFwDMu0FLdb",
        "outputId": "8e553336-4423-416e-8e9b-a9a23ed042a4"
      },
      "execution_count": 55,
      "outputs": [
        {
          "output_type": "stream",
          "name": "stdout",
          "text": [
            "Alice\n"
          ]
        }
      ]
    },
    {
      "cell_type": "code",
      "source": [
        "# Write a code to remove the key \"age\" from the dictionary {'name': 'Bob', 'age': 22, 'city': 'New York'}\n",
        "dict = {'name': 'Bob', 'age': 22,'city': 'New York'};del dict['age'];print(dict)"
      ],
      "metadata": {
        "colab": {
          "base_uri": "https://localhost:8080/"
        },
        "id": "9vDbE0MbIlMz",
        "outputId": "795c3404-d71c-4c94-f3c5-caa29fbfd4c6"
      },
      "execution_count": 56,
      "outputs": [
        {
          "output_type": "stream",
          "name": "stdout",
          "text": [
            "{'name': 'Bob', 'city': 'New York'}\n"
          ]
        }
      ]
    },
    {
      "cell_type": "code",
      "source": [
        "# Write a code to check if the key \"city\" exists in the dictionary {'name': 'Alice', 'city': 'Paris'}.\n",
        "dict = {'name': 'Alice', 'city': 'Paris'};print('city' in dict)"
      ],
      "metadata": {
        "colab": {
          "base_uri": "https://localhost:8080/"
        },
        "id": "HgB9a-UAIlVr",
        "outputId": "68c9e08d-a36c-4b99-b570-a4edd748c0d4"
      },
      "execution_count": 26,
      "outputs": [
        {
          "output_type": "stream",
          "name": "stdout",
          "text": [
            "True\n"
          ]
        }
      ]
    },
    {
      "cell_type": "code",
      "source": [
        "#  Write a code to create a list, a tuple, and a dictionary, and print them all.\n",
        "list = [1, 2, 3];tup = (4, 5, 6);dict = {'a': 1, 'b': 2};print(list, tup, dict)"
      ],
      "metadata": {
        "colab": {
          "base_uri": "https://localhost:8080/"
        },
        "id": "nqI2dzxlIlaf",
        "outputId": "9d9cbbce-9a13-45e8-c391-8fbfd9065862"
      },
      "execution_count": 57,
      "outputs": [
        {
          "output_type": "stream",
          "name": "stdout",
          "text": [
            "[1, 2, 3] (4, 5, 6) {'a': 1, 'b': 2}\n"
          ]
        }
      ]
    },
    {
      "cell_type": "code",
      "source": [
        "# Write a code to create a list of 5 random numbers between 1 and 100, sort it in ascending order, and print the result.(replaced)\n",
        "\n",
        "import random;list = random.sample(range(1, 101), 5);list.sort();print(list)"
      ],
      "metadata": {
        "colab": {
          "base_uri": "https://localhost:8080/"
        },
        "id": "h5TniVSVIljg",
        "outputId": "f7b96263-6018-40af-a932-748ef2ee7ae3"
      },
      "execution_count": 58,
      "outputs": [
        {
          "output_type": "stream",
          "name": "stdout",
          "text": [
            "[14, 44, 47, 48, 95]\n"
          ]
        }
      ]
    },
    {
      "cell_type": "code",
      "source": [
        "# Write a code to create a list with strings and print the element at the third index\n",
        "list = [\"apple\", \"banana\", \"cherry\", \"Orange\"];print(list[3])"
      ],
      "metadata": {
        "id": "SBAX5V9inGGC",
        "colab": {
          "base_uri": "https://localhost:8080/"
        },
        "outputId": "50b2a55b-2b5a-4a51-e68d-c29a9d7f8a97"
      },
      "execution_count": 59,
      "outputs": [
        {
          "output_type": "stream",
          "name": "stdout",
          "text": [
            "Orange\n"
          ]
        }
      ]
    },
    {
      "cell_type": "code",
      "source": [
        "# Write a code to combine two dictionaries into one and print the result.\n",
        "dict1 = {'a': 1, 'b': 2};dict2 = {'c': 3, 'd': 4};dict1.update(dict2);print(dict1)"
      ],
      "metadata": {
        "colab": {
          "base_uri": "https://localhost:8080/"
        },
        "id": "_fa6j9WUNh3d",
        "outputId": "9e5c0d5d-1fa8-4448-a9ff-af5f18e82da4"
      },
      "execution_count": 60,
      "outputs": [
        {
          "output_type": "stream",
          "name": "stdout",
          "text": [
            "{'a': 1, 'b': 2, 'c': 3, 'd': 4}\n"
          ]
        }
      ]
    },
    {
      "cell_type": "code",
      "source": [
        "# Write a code to convert a list of strings into a set.\n",
        "list = [\"apple\", \"banana\", \"cherry\"];print(set(list))"
      ],
      "metadata": {
        "colab": {
          "base_uri": "https://localhost:8080/"
        },
        "id": "TTiVEMkSN1tz",
        "outputId": "6b400506-f5af-4b80-d95d-709054306fb9"
      },
      "execution_count": 61,
      "outputs": [
        {
          "output_type": "stream",
          "name": "stdout",
          "text": [
            "{'cherry', 'apple', 'banana'}\n"
          ]
        }
      ]
    }
  ]
}